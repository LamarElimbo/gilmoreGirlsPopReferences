{
 "cells": [
  {
   "cell_type": "code",
   "execution_count": 1,
   "metadata": {
    "collapsed": true
   },
   "outputs": [],
   "source": [
    "import nltk, os\n",
    "import pandas as pd"
   ]
  },
  {
   "cell_type": "code",
   "execution_count": 2,
   "metadata": {
    "collapsed": true
   },
   "outputs": [],
   "source": [
    "SEASON=[]\n",
    "EPISODE=[]\n",
    "REFERENCE=[]\n",
    "\n",
    "TABLE_COLUMNS=['season', 'episode', 'reference']\n",
    "\n",
    "DATABASE={'season':SEASON, 'episode':EPISODE, 'reference':REFERENCE}"
   ]
  },
  {
   "cell_type": "code",
   "execution_count": 3,
   "metadata": {
    "collapsed": false
   },
   "outputs": [],
   "source": [
    "def ner_it(file, seas, ep):\n",
    "    sentences = nltk.sent_tokenize(doc)\n",
    "    tokenized_sentences = [nltk.word_tokenize(sentence) for sentence in sentences]\n",
    "    tagged_sentences = [nltk.pos_tag(sentence) for sentence in tokenized_sentences]\n",
    "    chunked_sentences = nltk.ne_chunk_sents(tagged_sentences, binary=True)\n",
    "    \n",
    "    season_num = 1\n",
    "    def extract_entity_names(t):\n",
    "        entity_names = []\n",
    "\n",
    "        if hasattr(t, 'label') and t.label:\n",
    "            if t.label() == 'NE':\n",
    "                entity_names.append(' '.join([child[0] for child in t]))\n",
    "            else:\n",
    "                for child in t:\n",
    "                    entity_names.extend(extract_entity_names(child))\n",
    "\n",
    "        return entity_names\n",
    "\n",
    "    entity_names = []\n",
    "    for tree in chunked_sentences:\n",
    "        # Print results per sentence\n",
    "        # print extract_entity_names(tree)\n",
    "\n",
    "        entity_names.extend(extract_entity_names(tree))\n",
    "        \n",
    "    entity_names = list(entity_names)\n",
    "    entities = []\n",
    "    \n",
    "    for entity in entity_names:\n",
    "        entities.append(entity.lower())\n",
    "    \n",
    "    for entity in set(entities):\n",
    "        DATABASE['season'].append(seas)\n",
    "        DATABASE['episode'].append(ep)\n",
    "        DATABASE['reference'].append(entity)\n",
    "\n",
    "    pd.DataFrame(DATABASE).to_csv('references.csv', header=True, index=False)"
   ]
  },
  {
   "cell_type": "code",
   "execution_count": 4,
   "metadata": {
    "collapsed": false
   },
   "outputs": [
    {
     "name": "stdout",
     "output_type": "stream",
     "text": [
      "current:  /Users/Customer/Developer/articles/gilmore_girls/data/scripts/season_7\n",
      "list:  ['.DS_Store', '1.txt', '10.txt', '11.txt', '12.txt', '13.txt', '14.txt', '15.txt', '16.txt', '17.txt', '18.txt', '19.txt', '2.txt', '20.txt', '21.txt', '22.txt', '3.txt', '4.txt', '5.txt', '6.txt', '7.txt', '8.txt', '9.txt']\n",
      "./1.txt\n",
      "./10.txt\n",
      "./11.txt\n",
      "./12.txt\n",
      "./13.txt\n",
      "./14.txt\n",
      "./15.txt\n",
      "./16.txt\n",
      "./17.txt\n",
      "./18.txt\n",
      "./19.txt\n",
      "./2.txt\n",
      "./20.txt\n",
      "./21.txt\n",
      "./22.txt\n",
      "./3.txt\n",
      "./4.txt\n",
      "./5.txt\n",
      "./6.txt\n",
      "./7.txt\n",
      "./8.txt\n",
      "./9.txt\n"
     ]
    }
   ],
   "source": [
    "os.chdir('../scripts/season_7')\n",
    "cwd = os.getcwd()\n",
    "print('current: ', cwd)\n",
    "print('list: ', os.listdir())\n",
    "\n",
    "season_num = 7\n",
    "episode_num = 0\n",
    "\n",
    "for root, dirs, files in os.walk(\".\"):\n",
    "    for name in files:\n",
    "        if name == '.DS_Store':\n",
    "            continue\n",
    "        else:\n",
    "            episode_num = name[:-4]\n",
    "            print(os.path.join(root, name))\n",
    "            with open(name, 'r') as f:\n",
    "                doc = f.read()\n",
    "                ner_it(doc, season_num, episode_num)"
   ]
  },
  {
   "cell_type": "code",
   "execution_count": null,
   "metadata": {
    "collapsed": true
   },
   "outputs": [],
   "source": []
  }
 ],
 "metadata": {
  "kernelspec": {
   "display_name": "Python 3",
   "language": "python",
   "name": "python3"
  },
  "language_info": {
   "codemirror_mode": {
    "name": "ipython",
    "version": 3
   },
   "file_extension": ".py",
   "mimetype": "text/x-python",
   "name": "python",
   "nbconvert_exporter": "python",
   "pygments_lexer": "ipython3",
   "version": "3.5.2"
  }
 },
 "nbformat": 4,
 "nbformat_minor": 0
}
