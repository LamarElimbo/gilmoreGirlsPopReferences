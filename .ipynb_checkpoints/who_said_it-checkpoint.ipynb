{
 "cells": [
  {
   "cell_type": "code",
   "execution_count": 1,
   "metadata": {
    "collapsed": true
   },
   "outputs": [],
   "source": [
    "import codecs\n",
    "import os\n",
    "import pandas as pd"
   ]
  },
  {
   "cell_type": "code",
   "execution_count": 2,
   "metadata": {
    "collapsed": true
   },
   "outputs": [],
   "source": [
    "os.chdir('../scripts')"
   ]
  },
  {
   "cell_type": "code",
   "execution_count": 3,
   "metadata": {
    "collapsed": false
   },
   "outputs": [],
   "source": [
    "m = codecs.open('masterScripts.csv', 'r', encoding='utf-8', errors='ignore')\n",
    "master = pd.read_csv(m)"
   ]
  },
  {
   "cell_type": "code",
   "execution_count": 4,
   "metadata": {
    "collapsed": true
   },
   "outputs": [],
   "source": [
    "del master['Unnamed: 6']"
   ]
  },
  {
   "cell_type": "code",
   "execution_count": 5,
   "metadata": {
    "collapsed": false
   },
   "outputs": [
    {
     "data": {
      "text/html": [
       "<div>\n",
       "<table border=\"1\" class=\"dataframe\">\n",
       "  <thead>\n",
       "    <tr style=\"text-align: right;\">\n",
       "      <th></th>\n",
       "      <th>episode</th>\n",
       "      <th>reference</th>\n",
       "      <th>season</th>\n",
       "      <th>ref_type</th>\n",
       "      <th>figure_type</th>\n",
       "      <th>speaker</th>\n",
       "    </tr>\n",
       "  </thead>\n",
       "  <tbody>\n",
       "    <tr>\n",
       "      <th>0</th>\n",
       "      <td>12</td>\n",
       "      <td>aaron brown</td>\n",
       "      <td>6</td>\n",
       "      <td>figure</td>\n",
       "      <td>journalist</td>\n",
       "      <td>NaN</td>\n",
       "    </tr>\n",
       "    <tr>\n",
       "      <th>1</th>\n",
       "      <td>3</td>\n",
       "      <td>aaron thompson</td>\n",
       "      <td>4</td>\n",
       "      <td>figure</td>\n",
       "      <td>sports</td>\n",
       "      <td>NaN</td>\n",
       "    </tr>\n",
       "    <tr>\n",
       "      <th>2</th>\n",
       "      <td>9</td>\n",
       "      <td>abe vigoda</td>\n",
       "      <td>5</td>\n",
       "      <td>figure</td>\n",
       "      <td>actor</td>\n",
       "      <td>NaN</td>\n",
       "    </tr>\n",
       "    <tr>\n",
       "      <th>3</th>\n",
       "      <td>5</td>\n",
       "      <td>abigail adams</td>\n",
       "      <td>6</td>\n",
       "      <td>figure</td>\n",
       "      <td>politics</td>\n",
       "      <td>NaN</td>\n",
       "    </tr>\n",
       "    <tr>\n",
       "      <th>4</th>\n",
       "      <td>11</td>\n",
       "      <td>abraham</td>\n",
       "      <td>4</td>\n",
       "      <td>figure</td>\n",
       "      <td>politics</td>\n",
       "      <td>NaN</td>\n",
       "    </tr>\n",
       "  </tbody>\n",
       "</table>\n",
       "</div>"
      ],
      "text/plain": [
       "   episode       reference  season ref_type figure_type  speaker\n",
       "0       12     aaron brown       6   figure  journalist      NaN\n",
       "1        3  aaron thompson       4   figure      sports      NaN\n",
       "2        9      abe vigoda       5   figure       actor      NaN\n",
       "3        5   abigail adams       6   figure    politics      NaN\n",
       "4       11         abraham       4   figure    politics      NaN"
      ]
     },
     "execution_count": 5,
     "metadata": {},
     "output_type": "execute_result"
    }
   ],
   "source": [
    "master.head()"
   ]
  },
  {
   "cell_type": "code",
   "execution_count": 6,
   "metadata": {
    "collapsed": true
   },
   "outputs": [
    {
     "name": "stdout",
     "output_type": "stream",
     "text": [
      "current:  /Users/Customer/Developer/articles/gilmore_girls/data/scripts\n",
      "On file:  .DS_Store\n",
      "On file:  1.txt\n",
      "On file:  10.txt\n",
      "On file:  11.txt\n",
      "On file:  12.txt\n",
      "On file:  13.txt\n",
      "On file:  14.txt\n",
      "On file:  15.txt\n",
      "On file:  16.txt\n",
      "On file:  17.txt\n",
      "On file:  18.txt\n",
      "On file:  19.txt\n",
      "On file:  2.txt\n",
      "On file:  20.txt\n",
      "On file:  21.txt\n",
      "On file:  22.txt\n",
      "On file:  3.txt\n",
      "On file:  4.txt\n",
      "On file:  5.txt\n",
      "On file:  6.txt\n",
      "On file:  7.txt\n",
      "On file:  8.txt\n",
      "On file:  9.txt\n",
      "On file:  references.csv\n"
     ]
    }
   ],
   "source": [
    "cwd = os.getcwd()\n",
    "print('current: ', cwd)\n",
    "os.chdir('./season_7')\n",
    "\n",
    "season_num = 7\n",
    "episode_num = 0\n",
    "\n",
    "for root, dirs, files in os.walk('.', topdown=False):\n",
    "    for name in files:\n",
    "        print('On file: ', name)\n",
    "        if name == '.DS_Store' or name == 'references.csv':\n",
    "            continue\n",
    "        else:\n",
    "            episode_num = int(name[:-4])\n",
    "\n",
    "            current_episode = master[(master['season'] == season_num) & (master['episode'] == episode_num)]\n",
    "            current_references = current_episode['reference']\n",
    "\n",
    "            with open(name, 'r') as f:\n",
    "                lines = f.read().split('\\u2028')\n",
    "\n",
    "            for line in lines:\n",
    "                for ref in current_references:\n",
    "                    if ref in line.lower():\n",
    "                        speaker = line.split(':')[0]\n",
    "                        master.ix[(master['reference'] == ref) & (master['episode'] == episode_num), 'speaker'] = speaker\n",
    "            f.close()\n",
    "\n",
    "pd.DataFrame(master).to_csv('master7.csv', header=True, index=False)"
   ]
  },
  {
   "cell_type": "code",
   "execution_count": null,
   "metadata": {
    "collapsed": true
   },
   "outputs": [],
   "source": []
  }
 ],
 "metadata": {
  "kernelspec": {
   "display_name": "Python 3",
   "language": "python",
   "name": "python3"
  },
  "language_info": {
   "codemirror_mode": {
    "name": "ipython",
    "version": 3
   },
   "file_extension": ".py",
   "mimetype": "text/x-python",
   "name": "python",
   "nbconvert_exporter": "python",
   "pygments_lexer": "ipython3",
   "version": "3.5.2"
  }
 },
 "nbformat": 4,
 "nbformat_minor": 0
}
